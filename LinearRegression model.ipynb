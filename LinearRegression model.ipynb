{
 "cells": [
  {
   "cell_type": "code",
   "execution_count": 41,
   "id": "7f096f8a",
   "metadata": {},
   "outputs": [],
   "source": [
    "import pandas as pd\n",
    "import numpy as np\n",
    "from sklearn.model_selection import train_test_split\n"
   ]
  },
  {
   "cell_type": "markdown",
   "id": "07bc1612",
   "metadata": {},
   "source": [
    "# import the data\n"
   ]
  },
  {
   "cell_type": "code",
   "execution_count": 42,
   "id": "55b26631",
   "metadata": {},
   "outputs": [
    {
     "name": "stdout",
     "output_type": "stream",
     "text": [
      "       Unnamed: 0       City     Price  Area                         Location  \\\n",
      "0               0  Bangalore  30000000  3340                 JP Nagar Phase 1   \n",
      "1               1  Bangalore   7888000  1045       Dasarahalli on Tumkur Road   \n",
      "2               2  Bangalore   4866000  1179  Kannur on Thanisandra Main Road   \n",
      "3               3  Bangalore   8358000  1675                     Doddanekundi   \n",
      "4               4  Bangalore   6845000  1670                          Kengeri   \n",
      "...           ...        ...       ...   ...                              ...   \n",
      "29130        7714     Mumbai  14500000  1180                   Mira Road East   \n",
      "29131        7715     Mumbai  14500000   530                     Naigaon East   \n",
      "29132        7716     Mumbai   4100000   700                         Shirgaon   \n",
      "29133        7717     Mumbai   2750000   995                   Mira Road East   \n",
      "29134        7718     Mumbai   2750000  1020                   Mira Road East   \n",
      "\n",
      "       No. of Bedrooms  \n",
      "0                    4  \n",
      "1                    2  \n",
      "2                    2  \n",
      "3                    3  \n",
      "4                    3  \n",
      "...                ...  \n",
      "29130                2  \n",
      "29131                1  \n",
      "29132                1  \n",
      "29133                2  \n",
      "29134                2  \n",
      "\n",
      "[29135 rows x 6 columns]\n"
     ]
    }
   ],
   "source": [
    "data=pd.read_csv('C:/Users/CVR/Downloads/csvdata.csv')\n",
    "print(data)"
   ]
  },
  {
   "cell_type": "markdown",
   "id": "e2892055",
   "metadata": {},
   "source": [
    "# Droping a column from the dataset"
   ]
  },
  {
   "cell_type": "code",
   "execution_count": 47,
   "id": "12fa2ae9",
   "metadata": {},
   "outputs": [],
   "source": [
    "data1=data.drop(['Unnamed: 0'],axis=1)"
   ]
  },
  {
   "cell_type": "markdown",
   "id": "7a1c4e57",
   "metadata": {},
   "source": [
    "# Correlation\n"
   ]
  },
  {
   "cell_type": "code",
   "execution_count": 8,
   "id": "223954de",
   "metadata": {},
   "outputs": [
    {
     "data": {
      "text/html": [
       "<div>\n",
       "<style scoped>\n",
       "    .dataframe tbody tr th:only-of-type {\n",
       "        vertical-align: middle;\n",
       "    }\n",
       "\n",
       "    .dataframe tbody tr th {\n",
       "        vertical-align: top;\n",
       "    }\n",
       "\n",
       "    .dataframe thead th {\n",
       "        text-align: right;\n",
       "    }\n",
       "</style>\n",
       "<table border=\"1\" class=\"dataframe\">\n",
       "  <thead>\n",
       "    <tr style=\"text-align: right;\">\n",
       "      <th></th>\n",
       "      <th>Price</th>\n",
       "      <th>Area</th>\n",
       "      <th>No. of Bedrooms</th>\n",
       "    </tr>\n",
       "  </thead>\n",
       "  <tbody>\n",
       "    <tr>\n",
       "      <th>Price</th>\n",
       "      <td>1.000000</td>\n",
       "      <td>0.268954</td>\n",
       "      <td>0.150691</td>\n",
       "    </tr>\n",
       "    <tr>\n",
       "      <th>Area</th>\n",
       "      <td>0.268954</td>\n",
       "      <td>1.000000</td>\n",
       "      <td>0.709645</td>\n",
       "    </tr>\n",
       "    <tr>\n",
       "      <th>No. of Bedrooms</th>\n",
       "      <td>0.150691</td>\n",
       "      <td>0.709645</td>\n",
       "      <td>1.000000</td>\n",
       "    </tr>\n",
       "  </tbody>\n",
       "</table>\n",
       "</div>"
      ],
      "text/plain": [
       "                    Price      Area  No. of Bedrooms\n",
       "Price            1.000000  0.268954         0.150691\n",
       "Area             0.268954  1.000000         0.709645\n",
       "No. of Bedrooms  0.150691  0.709645         1.000000"
      ]
     },
     "execution_count": 8,
     "metadata": {},
     "output_type": "execute_result"
    }
   ],
   "source": [
    "data1.corr()"
   ]
  },
  {
   "cell_type": "markdown",
   "id": "a85f9dcf",
   "metadata": {},
   "source": [
    "# Datatypes"
   ]
  },
  {
   "cell_type": "code",
   "execution_count": 9,
   "id": "f617db12",
   "metadata": {},
   "outputs": [
    {
     "data": {
      "text/plain": [
       "City               object\n",
       "Price               int64\n",
       "Area                int64\n",
       "Location           object\n",
       "No. of Bedrooms     int64\n",
       "dtype: object"
      ]
     },
     "execution_count": 9,
     "metadata": {},
     "output_type": "execute_result"
    }
   ],
   "source": [
    "data1.dtypes"
   ]
  },
  {
   "cell_type": "markdown",
   "id": "33216b76",
   "metadata": {},
   "source": [
    "# Splitting the data "
   ]
  },
  {
   "cell_type": "code",
   "execution_count": 37,
   "id": "a0f07d4f",
   "metadata": {},
   "outputs": [],
   "source": [
    "y=data1['Price']\n",
    "x=data1.drop(['Price','City','Location'],axis=1)\n",
    "x_train,x_test,y_train,y_test=train_test_split(x,y,test_size=0.05)"
   ]
  },
  {
   "cell_type": "markdown",
   "id": "e5db1390",
   "metadata": {},
   "source": [
    "# Importing linear regression"
   ]
  },
  {
   "cell_type": "code",
   "execution_count": 49,
   "id": "32b83c19",
   "metadata": {},
   "outputs": [],
   "source": [
    "from sklearn.linear_model import LinearRegression\n",
    "LM=LinearRegression()"
   ]
  },
  {
   "cell_type": "markdown",
   "id": "b99c14fb",
   "metadata": {},
   "source": [
    "# Training the datasets"
   ]
  },
  {
   "cell_type": "code",
   "execution_count": 48,
   "id": "50778450",
   "metadata": {},
   "outputs": [
    {
     "data": {
      "text/plain": [
       "LinearRegression()"
      ]
     },
     "execution_count": 48,
     "metadata": {},
     "output_type": "execute_result"
    }
   ],
   "source": [
    "LM.fit(x_train,y_train)"
   ]
  },
  {
   "cell_type": "markdown",
   "id": "c3a3346f",
   "metadata": {},
   "source": [
    "# Predicting the test values"
   ]
  },
  {
   "cell_type": "code",
   "execution_count": 39,
   "id": "b8f80c4d",
   "metadata": {},
   "outputs": [],
   "source": [
    "pred=LM.predict(x_test)"
   ]
  },
  {
   "cell_type": "markdown",
   "id": "2c4b72b7",
   "metadata": {},
   "source": [
    "# Calculating the mean squared error"
   ]
  },
  {
   "cell_type": "code",
   "execution_count": 40,
   "id": "37d64355",
   "metadata": {},
   "outputs": [
    {
     "data": {
      "text/plain": [
       "0.7218607337449509"
      ]
     },
     "execution_count": 40,
     "metadata": {},
     "output_type": "execute_result"
    }
   ],
   "source": [
    "from sklearn.metrics import mean_squared_log_error as msle\n",
    "msle(y_test,pred)\n"
   ]
  }
 ],
 "metadata": {
  "kernelspec": {
   "display_name": "Python 3",
   "language": "python",
   "name": "python3"
  },
  "language_info": {
   "codemirror_mode": {
    "name": "ipython",
    "version": 3
   },
   "file_extension": ".py",
   "mimetype": "text/x-python",
   "name": "python",
   "nbconvert_exporter": "python",
   "pygments_lexer": "ipython3",
   "version": "3.8.8"
  }
 },
 "nbformat": 4,
 "nbformat_minor": 5
}
